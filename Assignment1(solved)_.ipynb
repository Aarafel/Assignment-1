{
  "cells": [
    {
      "cell_type": "markdown",
      "id": "b62de2bb",
      "metadata": {
        "id": "b62de2bb"
      },
      "source": [
        "# Task1\n",
        "Create a variable named x, and assign it a value of 20."
      ]
    },
    {
      "cell_type": "code",
      "execution_count": 1,
      "id": "919cbd1b",
      "metadata": {
        "id": "919cbd1b"
      },
      "outputs": [],
      "source": [
        "x = 20"
      ]
    },
    {
      "cell_type": "markdown",
      "id": "b29f5dda",
      "metadata": {
        "id": "b29f5dda"
      },
      "source": [
        "# Task2\n",
        "Create two variables named x and y, and assign them with values 10 and 20 respectively."
      ]
    },
    {
      "cell_type": "code",
      "execution_count": 2,
      "id": "43ada676",
      "metadata": {
        "id": "43ada676"
      },
      "outputs": [],
      "source": [
        "x =10\n",
        "y = 20"
      ]
    },
    {
      "cell_type": "markdown",
      "id": "62c0df0d",
      "metadata": {
        "id": "62c0df0d"
      },
      "source": [
        "# Task3\n",
        "Create a variable named x which is assigned a value of 'apple'. Print the variable x to standard output."
      ]
    },
    {
      "cell_type": "code",
      "execution_count": 3,
      "id": "07d23a3b",
      "metadata": {
        "colab": {
          "base_uri": "https://localhost:8080/"
        },
        "id": "07d23a3b",
        "outputId": "29e33e93-1e85-4800-ec98-47e8edf0fe1f"
      },
      "outputs": [
        {
          "output_type": "stream",
          "name": "stdout",
          "text": [
            "apple\n"
          ]
        }
      ],
      "source": [
        "x=\"apple\"\n",
        "print(x)"
      ]
    },
    {
      "cell_type": "markdown",
      "id": "ab1228d6",
      "metadata": {
        "id": "ab1228d6"
      },
      "source": [
        "# Task4\n",
        "Assign variable x with 10, and variable y with 20. Find their sum and assign the result to a variable z. Then print the variable z."
      ]
    },
    {
      "cell_type": "code",
      "execution_count": 4,
      "id": "f3733960",
      "metadata": {
        "colab": {
          "base_uri": "https://localhost:8080/"
        },
        "id": "f3733960",
        "outputId": "7631ac47-650a-4d94-d7ba-8c610b42eb55"
      },
      "outputs": [
        {
          "output_type": "stream",
          "name": "stdout",
          "text": [
            "30\n"
          ]
        }
      ],
      "source": [
        " x =10\n",
        " y =20\n",
        " z = x+y\n",
        " print(z)"
      ]
    },
    {
      "cell_type": "markdown",
      "id": "4f3972af",
      "metadata": {
        "id": "4f3972af"
      },
      "source": [
        "# Task5\n",
        "Initialize all the three variables x, y, and z with the same value of 'apple' in a single statement."
      ]
    },
    {
      "cell_type": "code",
      "execution_count": 5,
      "id": "ee040b87",
      "metadata": {
        "colab": {
          "base_uri": "https://localhost:8080/"
        },
        "id": "ee040b87",
        "outputId": "654f1fca-8696-4a0e-8a59-8d385a38a05e"
      },
      "outputs": [
        {
          "output_type": "stream",
          "name": "stdout",
          "text": [
            "apple apple apple\n"
          ]
        }
      ],
      "source": [
        "x = y =z = \"apple\"\n",
        "print(f\"{x} {y} {z}\")"
      ]
    },
    {
      "cell_type": "markdown",
      "id": "c37809e9",
      "metadata": {
        "id": "c37809e9"
      },
      "source": [
        "# Task6\n",
        "What is the built-in function that returns the type of the given value or variable (x or y or z)."
      ]
    },
    {
      "cell_type": "code",
      "execution_count": 6,
      "id": "2f4b820a",
      "metadata": {
        "colab": {
          "base_uri": "https://localhost:8080/"
        },
        "id": "2f4b820a",
        "outputId": "b767abfa-51ab-4689-c70f-e1e660779be1"
      },
      "outputs": [
        {
          "output_type": "stream",
          "name": "stdout",
          "text": [
            "<class 'str'>\n"
          ]
        }
      ],
      "source": [
        "#answer: type\n",
        "print(type(x))"
      ]
    },
    {
      "cell_type": "markdown",
      "id": "b5a37587",
      "metadata": {
        "id": "b5a37587"
      },
      "source": [
        "# Task7\n",
        "Which built-in function is used to read input from user?"
      ]
    },
    {
      "cell_type": "code",
      "execution_count": 7,
      "id": "98badfbb",
      "metadata": {
        "colab": {
          "base_uri": "https://localhost:8080/",
          "height": 53
        },
        "id": "98badfbb",
        "outputId": "9db27e87-a3f2-4273-d2a9-423eda44c28c"
      },
      "outputs": [
        {
          "name": "stdout",
          "output_type": "stream",
          "text": [
            "how are u?good\n"
          ]
        },
        {
          "output_type": "execute_result",
          "data": {
            "text/plain": [
              "'good'"
            ],
            "application/vnd.google.colaboratory.intrinsic+json": {
              "type": "string"
            }
          },
          "metadata": {},
          "execution_count": 7
        }
      ],
      "source": [
        "#input function\n",
        "input(\"how are u?\")"
      ]
    },
    {
      "cell_type": "markdown",
      "id": "bf399396",
      "metadata": {
        "id": "bf399396"
      },
      "source": [
        "# Task8\n",
        "Reverse a given string\n",
        "str1 = \"Amit Learning\""
      ]
    },
    {
      "cell_type": "code",
      "execution_count": 10,
      "id": "887d91bf",
      "metadata": {
        "colab": {
          "base_uri": "https://localhost:8080/"
        },
        "id": "887d91bf",
        "outputId": "e20c1815-5546-4518-9de2-e4c8a7a16008"
      },
      "outputs": [
        {
          "output_type": "stream",
          "name": "stdout",
          "text": [
            "gninraeL timA\n"
          ]
        }
      ],
      "source": [
        "str1 = \"Amit Learning\"\n",
        "reversed_str1 = str1[-1: :-1]\n",
        "print(reversed_str1)"
      ]
    },
    {
      "cell_type": "markdown",
      "id": "5e42437a",
      "metadata": {
        "id": "5e42437a"
      },
      "source": [
        "# Task9\n",
        "split a given string\n",
        "str2 = \"Dema-is-a-data-scientist\"\n",
        "\n",
        "output >> ['Dema', 'is', 'a', 'data', 'scientist']"
      ]
    },
    {
      "cell_type": "code",
      "execution_count": 14,
      "id": "08f0b533",
      "metadata": {
        "colab": {
          "base_uri": "https://localhost:8080/"
        },
        "id": "08f0b533",
        "outputId": "fc422a0c-04a4-4cf7-a4b7-7dd34f4b1a91"
      },
      "outputs": [
        {
          "output_type": "stream",
          "name": "stdout",
          "text": [
            "['Dema', 'is', 'a', 'data', 'scientist']\n"
          ]
        }
      ],
      "source": [
        "  str2 =\"Dema-is-a-data-scientist\"\n",
        "  split_str = str2.split('-')\n",
        "  print(split_str)"
      ]
    },
    {
      "cell_type": "markdown",
      "id": "82363726",
      "metadata": {
        "id": "82363726"
      },
      "source": [
        "# Task10\n",
        "Join this list['Dema', 'is', 'a', 'data', 'scientist']\n",
        "\n",
        "output >> 'Dema is a data scientist'"
      ]
    },
    {
      "cell_type": "code",
      "execution_count": 17,
      "id": "e4026949",
      "metadata": {
        "colab": {
          "base_uri": "https://localhost:8080/"
        },
        "id": "e4026949",
        "outputId": "ea145e77-b941-4b92-9367-9e41026f3ee7"
      },
      "outputs": [
        {
          "output_type": "stream",
          "name": "stdout",
          "text": [
            "Dema is a data scientist\n"
          ]
        }
      ],
      "source": [
        "my_list= ['Dema', 'is', 'a', 'data', 'scientist']\n",
        "joined_list=' '.join(my_list)\n",
        "print(joined_list)"
      ]
    },
    {
      "cell_type": "markdown",
      "id": "ac5c1dd8",
      "metadata": {
        "id": "ac5c1dd8"
      },
      "source": [
        "# Task11\n",
        "Get the characters:\n",
        "\n",
        "From: \"o\" in \"World!\"\n",
        "\n",
        "To, but not included: \"d\" in \"World!\"\n",
        "\n",
        "str1 = \"Hello, World!\""
      ]
    },
    {
      "cell_type": "code",
      "execution_count": 18,
      "id": "acab7e4d",
      "metadata": {
        "colab": {
          "base_uri": "https://localhost:8080/"
        },
        "id": "acab7e4d",
        "outputId": "54424d98-c677-44f0-9b9b-6436ffdd352a"
      },
      "outputs": [
        {
          "output_type": "stream",
          "name": "stdout",
          "text": [
            "o,worl\n"
          ]
        }
      ],
      "source": [
        "str1=\"Hello,world\"\n",
        "chosen_word= str1[str1.index('o'):str1.index('d')]\n",
        "print(chosen_word)"
      ]
    },
    {
      "cell_type": "markdown",
      "id": "b5763b76",
      "metadata": {
        "id": "b5763b76"
      },
      "source": [
        "# Task12\n",
        "Check if \"free\" is present in the following text:\n",
        "\n",
        "txt = \"The best things in life are free!\""
      ]
    },
    {
      "cell_type": "code",
      "execution_count": 22,
      "id": "d0ba085c",
      "metadata": {
        "colab": {
          "base_uri": "https://localhost:8080/"
        },
        "id": "d0ba085c",
        "outputId": "cef7100a-cde6-467e-9971-2b611056fe35"
      },
      "outputs": [
        {
          "output_type": "stream",
          "name": "stdout",
          "text": [
            "True\n"
          ]
        }
      ],
      "source": [
        "txt = \"The best things in life are free!\"\n",
        "\"free\" in txt\n",
        "#or\n",
        "if \"free\" in txt:\n",
        "  print(\"True\")\n",
        "else:\n",
        "  print(\"False\")"
      ]
    },
    {
      "cell_type": "markdown",
      "id": "d0b26e9b",
      "metadata": {
        "id": "d0b26e9b"
      },
      "source": [
        "\n",
        "\n",
        "```\n",
        "# This is formatted as code\n",
        "```\n",
        "\n",
        "# Task13\n",
        "removes any whitespace from the beginning or the end\n",
        "\n",
        "s = \" Hello, World! \""
      ]
    },
    {
      "cell_type": "code",
      "execution_count": 23,
      "id": "88e85a9a",
      "metadata": {
        "colab": {
          "base_uri": "https://localhost:8080/"
        },
        "id": "88e85a9a",
        "outputId": "55c9f0bc-4cfb-4a84-cf0a-975df36f74f1"
      },
      "outputs": [
        {
          "output_type": "stream",
          "name": "stdout",
          "text": [
            "Hello, World!\n"
          ]
        }
      ],
      "source": [
        "\n",
        "s = \" Hello, World! \"\n",
        "strip_sent = s.strip()\n",
        "print(strip_sent)"
      ]
    },
    {
      "cell_type": "markdown",
      "id": "832668db",
      "metadata": {
        "id": "832668db"
      },
      "source": [
        "# Task14\n",
        "Replace the character H with J.\n",
        "\n",
        "\n",
        "txt = \"Hello World\""
      ]
    },
    {
      "cell_type": "code",
      "execution_count": 24,
      "id": "50252148",
      "metadata": {
        "colab": {
          "base_uri": "https://localhost:8080/"
        },
        "id": "50252148",
        "outputId": "102043c9-eae7-4b03-e534-a6e4d4a08b87"
      },
      "outputs": [
        {
          "output_type": "stream",
          "name": "stdout",
          "text": [
            "Jello World\n"
          ]
        }
      ],
      "source": [
        "txt = \"Hello World\"\n",
        "replaced_text= txt.replace(\"H\" , \"J\")\n",
        "print(replaced_text)"
      ]
    },
    {
      "cell_type": "markdown",
      "id": "23064afc",
      "metadata": {
        "id": "23064afc"
      },
      "source": [
        "# Task15\n",
        "**After you have finished the first session, can you explain briefly what information was learned and also what information you learned through the search?**"
      ]
    },
    {
      "cell_type": "markdown",
      "id": "8bf47732",
      "metadata": {
        "id": "8bf47732"
      },
      "source": [
        "Fundamentals concepts of string manipultion in python."
      ]
    }
  ],
  "metadata": {
    "kernelspec": {
      "display_name": "Python 3 (ipykernel)",
      "language": "python",
      "name": "python3"
    },
    "language_info": {
      "codemirror_mode": {
        "name": "ipython",
        "version": 3
      },
      "file_extension": ".py",
      "mimetype": "text/x-python",
      "name": "python",
      "nbconvert_exporter": "python",
      "pygments_lexer": "ipython3",
      "version": "3.10.9"
    },
    "colab": {
      "provenance": []
    }
  },
  "nbformat": 4,
  "nbformat_minor": 5
}